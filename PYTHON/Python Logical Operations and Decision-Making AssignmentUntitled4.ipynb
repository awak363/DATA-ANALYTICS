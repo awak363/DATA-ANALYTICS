{
 "cells": [
  {
   "cell_type": "code",
   "execution_count": 1,
   "id": "808a5a48-bc18-4a44-bb8f-1506f16a3ccc",
   "metadata": {},
   "outputs": [
    {
     "name": "stdin",
     "output_type": "stream",
     "text": [
      "Enter a number: 5\n"
     ]
    },
    {
     "name": "stdout",
     "output_type": "stream",
     "text": [
      "{number} is an odd number\n"
     ]
    }
   ],
   "source": [
    "number= int(input(\"Enter a number:\"))\n",
    "if number % 4 == 0:\n",
    "    print(f\"{number}is an even number\")\n",
    "else:\n",
    "    print(\"{number} is an odd number\")"
   ]
  },
  {
   "cell_type": "code",
   "execution_count": 3,
   "id": "d70e5ff2-fa5b-401b-bad5-9c507962fbd6",
   "metadata": {},
   "outputs": [
    {
     "name": "stdin",
     "output_type": "stream",
     "text": [
      "Enter a score (0-100):  60\n"
     ]
    },
    {
     "name": "stdout",
     "output_type": "stream",
     "text": [
      "Grade: Below B\n"
     ]
    }
   ],
   "source": [
    "score= int(input(\"Enter a score (0-100): \"))\n",
    "if 90 <= score <= 100:\n",
    "    print(\"Grade: A\")\n",
    "elif 80 <= score <= 89:\n",
    "    print(\"Grade: B\")\n",
    "elif 0 <= score <80:\n",
    "    print(\"Grade: Below B\")\n",
    "else:\n",
    "    print(\"Invalid score. pleasse enter a number between 0 and 100.\")"
   ]
  },
  {
   "cell_type": "code",
   "execution_count": 14,
   "id": "e3fb824a-7889-4bef-95da-758c5a3d33a5",
   "metadata": {},
   "outputs": [
    {
     "name": "stdout",
     "output_type": "stream",
     "text": [
      "Customer Type: Premium\n",
      "Original Amount: KES 12000.00\n",
      "Discount Applied: 20%\n",
      "Final Price: KES 9600.00\n",
      "Customer Type: Regular\n",
      "Original Amount: KES 16000.00\n",
      "Discount Applied: 10%\n",
      "Final Price: KES 14400.00\n",
      "Customer Type: Regular\n",
      "Original Amount: KES 14000.00\n",
      "Discount Applied: 0%\n",
      "Final Price: KES 14000.00\n"
     ]
    }
   ],
   "source": [
    "def calculate_discount(customer_type, purchase_amount):\n",
    "    discount = 0\n",
    "\n",
    "    if customer_type == 'premium' and purchase_amount > 10000:\n",
    "        discount = 0.20\n",
    "    elif customer_type == 'regular' and purchase_amount > 15000:\n",
    "        discount = 0.10\n",
    "\n",
    "    discount_amount = purchase_amount * discount\n",
    "    final_price = purchase_amount - discount_amount\n",
    "\n",
    "    print(f\"Customer Type: {customer_type.capitalize()}\")\n",
    "    print(f\"Original Amount: KES {purchase_amount:.2f}\")\n",
    "    print(f\"Discount Applied: {discount * 100:.0f}%\")\n",
    "    print(f\"Final Price: KES {final_price:.2f}\")\n",
    "\n",
    "# Example usage:\n",
    "calculate_discount('premium', 12000)\n",
    "calculate_discount('regular', 16000)\n",
    "calculate_discount('regular', 14000)\n"
   ]
  },
  {
   "cell_type": "code",
   "execution_count": 15,
   "id": "23883a6e-63b1-48b7-95ef-39aa6e543fe5",
   "metadata": {},
   "outputs": [
    {
     "name": "stdin",
     "output_type": "stream",
     "text": [
      "Please enter your age:  25\n"
     ]
    },
    {
     "name": "stdout",
     "output_type": "stream",
     "text": [
      "Access Granted\n"
     ]
    }
   ],
   "source": [
    "# Section 4: Simple Age Access Checker\n",
    "\n",
    "# Ask for user's age\n",
    "age = int(input(\"Please enter your age: \"))\n",
    "\n",
    "# Check age and print appropriate message\n",
    "if age < 18:\n",
    "    print(\"Access Denied\")\n",
    "else:\n",
    "    print(\"Access Granted\")\n"
   ]
  },
  {
   "cell_type": "code",
   "execution_count": 18,
   "id": "ad94608f-8025-421c-a1bb-fa8c45b785fe",
   "metadata": {},
   "outputs": [
    {
     "name": "stdout",
     "output_type": "stream",
     "text": [
      "Eligible for scholarship\n",
      "Not eligible\n",
      "Not eligible\n"
     ]
    }
   ],
   "source": [
    "print(check_scholarship_eligibility(22, 18000))  # Output: Eligible for scholarship\n",
    "print(check_scholarship_eligibility(26, 18000))  # Output: Not eligible\n",
    "print(check_scholarship_eligibility(24, 22000))  # Output: Not eligible\n"
   ]
  },
  {
   "cell_type": "code",
   "execution_count": 19,
   "id": "8631be87-d5a2-4d9c-8885-71aeb5a5ae8f",
   "metadata": {},
   "outputs": [
    {
     "name": "stdin",
     "output_type": "stream",
     "text": [
      "Do you have an account? (yes/no):  yes\n"
     ]
    }
   ],
   "source": [
    "# Section 6: Account Check with `not`\n",
    "response = input(\"Do you have an account? (yes/no): \")\n",
    "\n",
    "if not response.lower() == \"yes\":\n",
    "    print(\"Please register to continue\")\n"
   ]
  },
  {
   "cell_type": "code",
   "execution_count": null,
   "id": "9dfe73c0-70de-436c-83a8-076aa02b0e53",
   "metadata": {},
   "outputs": [],
   "source": []
  }
 ],
 "metadata": {
  "kernelspec": {
   "display_name": "Python 3 (ipykernel)",
   "language": "python",
   "name": "python3"
  },
  "language_info": {
   "codemirror_mode": {
    "name": "ipython",
    "version": 3
   },
   "file_extension": ".py",
   "mimetype": "text/x-python",
   "name": "python",
   "nbconvert_exporter": "python",
   "pygments_lexer": "ipython3",
   "version": "3.13.5"
  }
 },
 "nbformat": 4,
 "nbformat_minor": 5
}
