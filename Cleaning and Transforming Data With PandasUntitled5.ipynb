{
 "cells": [
  {
   "cell_type": "markdown",
   "id": "24fb47cf-56d3-4173-97af-7e7b52e98c41",
   "metadata": {},
   "source": [
    "# Identifying and Handling Missing Data"
   ]
  },
  {
   "cell_type": "markdown",
   "id": "3ee289d9-5040-4eaa-9d65-07e7dd0de301",
   "metadata": {},
   "source": [
    "### step 1: finding missing Data"
   ]
  },
  {
   "cell_type": "code",
   "execution_count": 2,
   "id": "b014494a-9491-4a9d-8855-2c447b14ae77",
   "metadata": {},
   "outputs": [],
   "source": [
    "# import libraries\n",
    "import pandas as pd\n",
    "import numpy as np"
   ]
  },
  {
   "cell_type": "code",
   "execution_count": 7,
   "id": "6c552f2e-3bc3-4bd4-b982-a9f63e319bcd",
   "metadata": {},
   "outputs": [],
   "source": [
    "#loading dataset\n",
    "df=pd.read_csv('datasets\\data_cleaning_in_python.csv')\n",
    "\n"
   ]
  },
  {
   "cell_type": "code",
   "execution_count": null,
   "id": "29a6b057-b5fc-488d-853d-aff5ebba517c",
   "metadata": {},
   "outputs": [],
   "source": [
    "# Let's also check for 'Missing' and empty strings\n",
    "print(\"other forms of missing data\")\n",
    "\n",
    "#missing values in price column\n",
    "missing_prices-= (df['price']=='Missing').sum()\n",
    "print(f\"\")"
   ]
  },
  {
   "cell_type": "code",
   "execution_count": null,
   "id": "a33d83b3-afae-4a9a-9fe5-467b314fd0af",
   "metadata": {},
   "outputs": [],
   "source": []
  },
  {
   "cell_type": "code",
   "execution_count": null,
   "id": "745a4695-0c27-43d8-882c-4e476d5b1d1a",
   "metadata": {},
   "outputs": [],
   "source": []
  },
  {
   "cell_type": "code",
   "execution_count": null,
   "id": "fcf6fe6c-6af2-49b5-8520-7277e6bba8ad",
   "metadata": {},
   "outputs": [],
   "source": [
    "# strategy 2: fill missing values with appro"
   ]
  }
 ],
 "metadata": {
  "kernelspec": {
   "display_name": "Python 3 (ipykernel)",
   "language": "python",
   "name": "python3"
  },
  "language_info": {
   "codemirror_mode": {
    "name": "ipython",
    "version": 3
   },
   "file_extension": ".py",
   "mimetype": "text/x-python",
   "name": "python",
   "nbconvert_exporter": "python",
   "pygments_lexer": "ipython3",
   "version": "3.13.5"
  }
 },
 "nbformat": 4,
 "nbformat_minor": 5
}
