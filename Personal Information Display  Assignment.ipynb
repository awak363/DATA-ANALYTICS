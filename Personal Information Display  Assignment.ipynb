{
 "cells": [
  {
   "cell_type": "code",
   "execution_count": null,
   "id": "5776700e-bb81-470a-964a-2a852a23e35d",
   "metadata": {},
   "outputs": [],
   "source": []
  },
  {
   "cell_type": "code",
   "execution_count": 1,
   "id": "4dfcc582-1e85-45a0-9351-fc9b97786d64",
   "metadata": {},
   "outputs": [
    {
     "name": "stdin",
     "output_type": "stream",
     "text": [
      "What is your first name?  Actor\n",
      "What is your last name?  Awak\n",
      "How old are you?  24\n",
      "What is your favorite hobby?  Music\n"
     ]
    },
    {
     "name": "stdout",
     "output_type": "stream",
     "text": [
      "\n",
      "Thanks for sharing!\n",
      "Name: Actor Awak\n",
      "Age: 24\n",
      "Favorite Hobby: Music\n"
     ]
    }
   ],
   "source": [
    "# Ask for user input\n",
    "first_name = input(\"What is your first name? \")\n",
    "last_name = input(\"What is your last name? \")\n",
    "age = input(\"How old are you? \")\n",
    "hobby = input(\"What is your favorite hobby? \")\n",
    "\n",
    "# Display the information\n",
    "print(\"\\nThanks for sharing!\")\n",
    "print(f\"Name: {first_name} {last_name}\")\n",
    "print(f\"Age: {age}\")\n",
    "print(f\"Favorite Hobby: {hobby}\")\n"
   ]
  },
  {
   "cell_type": "code",
   "execution_count": 2,
   "id": "16fc47ce-bc3e-4fc9-abb6-1f6d1adbabfa",
   "metadata": {},
   "outputs": [
    {
     "name": "stdout",
     "output_type": "stream",
     "text": [
      "32 37 47\n"
     ]
    }
   ],
   "source": [
    "age_str = \"27\"\n",
    "age_num = int(age_str)\n",
    "\n",
    "age_in_5_years = age_num + 5    # 32\n",
    "age_in_10_years = age_num + 10  # 37\n",
    "age_in_20_years = age_num + 20  # 47\n",
    "\n",
    "print(age_in_5_years, age_in_10_years, age_in_20_years)\n"
   ]
  },
  {
   "cell_type": "code",
   "execution_count": 3,
   "id": "5031e675-901b-4cd1-8228-de8e98bc7e3e",
   "metadata": {},
   "outputs": [
    {
     "name": "stdout",
     "output_type": "stream",
     "text": [
      "HELLO ALICE! I heard you love PAINTING.\n",
      "Hey Alice, it's great to know someone from New York!\n",
      "Dear Alice, your hobby of painting sounds fun!\n",
      "Welcome, Alice! Ready for some painting today?\n",
      "Hi Bob, hope you enjoy painting in New York!\n"
     ]
    }
   ],
   "source": [
    "name = \"Alice\"\n",
    "hobby = \"painting\"\n",
    "city = \"New York\"\n",
    "\n",
    "# 1. Using .upper() to shout the message\n",
    "message1 = f\"HELLO {name.upper()}! I heard you love {hobby.upper()}.\"\n",
    "print(message1)\n",
    "\n",
    "# 2. Using .title() to format names properly\n",
    "message2 = f\"Hey {name.title()}, it's great to know someone from {city.title()}!\"\n",
    "print(message2)\n",
    "\n",
    "# 3. Using .replace() to personalize a template message\n",
    "template = \"Dear [NAME], your hobby of [HOBBY] sounds fun!\"\n",
    "message3 = template.replace(\"[NAME]\", name).replace(\"[HOBBY]\", hobby)\n",
    "print(message3)\n",
    "\n",
    "# 4. Using .capitalize() to create a nice greeting\n",
    "message4 = f\"Welcome, {name.capitalize()}! Ready for some {hobby} today?\"\n",
    "print(message4)\n",
    "\n",
    "# 5. Using .strip() to clean up input before creating a message\n",
    "raw_input = \"   Bob   \"\n",
    "clean_name = raw_input.strip()\n",
    "message5 = f\"Hi {clean_name}, hope you enjoy {hobby} in {city}!\"\n",
    "print(message5)\n"
   ]
  },
  {
   "cell_type": "code",
   "execution_count": 4,
   "id": "00558ddf-f021-4283-968a-6b302a7a33ab",
   "metadata": {},
   "outputs": [
    {
     "name": "stdin",
     "output_type": "stream",
     "text": [
      "Enter your name:  Deng\n"
     ]
    },
    {
     "name": "stdout",
     "output_type": "stream",
     "text": [
      "Input: Deng\n",
      "Length: 4 characters\n",
      "Vowels: 1\n",
      "Consonants: 3\n",
      "Starts with: 'D'\n",
      "Ends with: 'g'\n",
      "Is palindrome? No\n"
     ]
    }
   ],
   "source": [
    "def show_facts(user_input):\n",
    "    input_str = user_input.strip()\n",
    "    length = len(input_str)\n",
    "    vowels = \"aeiouAEIOU\"\n",
    "    vowel_count = sum(1 for char in input_str if char in vowels)\n",
    "    consonant_count = sum(1 for char in input_str if char.isalpha() and char not in vowels)\n",
    "    starts_with = input_str[0] if length > 0 else \"\"\n",
    "    ends_with = input_str[-1] if length > 0 else \"\"\n",
    "    palindrome = input_str.lower() == input_str[::-1].lower()\n",
    "\n",
    "    print(f\"Input: {input_str}\")\n",
    "    print(f\"Length: {length} characters\")\n",
    "    print(f\"Vowels: {vowel_count}\")\n",
    "    print(f\"Consonants: {consonant_count}\")\n",
    "    print(f\"Starts with: '{starts_with}'\")\n",
    "    print(f\"Ends with: '{ends_with}'\")\n",
    "    print(f\"Is palindrome? {'Yes' if palindrome else 'No'}\")\n",
    "\n",
    "# Example usage:\n",
    "name = input(\"Enter your name: \")\n",
    "show_facts(name)\n"
   ]
  },
  {
   "cell_type": "code",
   "execution_count": null,
   "id": "8d4ca6f2-dc0e-4b67-85e9-88e68a4d1c53",
   "metadata": {},
   "outputs": [],
   "source": []
  }
 ],
 "metadata": {
  "kernelspec": {
   "display_name": "Python 3 (ipykernel)",
   "language": "python",
   "name": "python3"
  },
  "language_info": {
   "codemirror_mode": {
    "name": "ipython",
    "version": 3
   },
   "file_extension": ".py",
   "mimetype": "text/x-python",
   "name": "python",
   "nbconvert_exporter": "python",
   "pygments_lexer": "ipython3",
   "version": "3.13.5"
  }
 },
 "nbformat": 4,
 "nbformat_minor": 5
}
