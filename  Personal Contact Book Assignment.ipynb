{
 "cells": [
  {
   "cell_type": "markdown",
   "id": "d354f84b-da99-4bf0-90fd-48d2204b336d",
   "metadata": {},
   "source": [
    "# Assignment 3: Personal Contact Book"
   ]
  },
  {
   "cell_type": "code",
   "execution_count": null,
   "id": "715d6916-b22c-4f09-9d3c-1df281f05fbe",
   "metadata": {},
   "outputs": [],
   "source": []
  },
  {
   "cell_type": "code",
   "execution_count": 1,
   "id": "a2c79763-37d2-465d-8c45-e1736c8eb366",
   "metadata": {},
   "outputs": [
    {
     "name": "stdout",
     "output_type": "stream",
     "text": [
      "{'phone': '123-456-7890', 'email': 'alice@example.com'}\n",
      "Name: Alice\n",
      "  Phone: 123-456-7890\n",
      "  Email: alice@example.com\n",
      "\n"
     ]
    }
   ],
   "source": [
    "# Initialize an empty dictionary to store contacts\n",
    "contacts = {}\n",
    "\n",
    "# Function to add a contact\n",
    "def add_contact(name, phone, email):\n",
    "    contacts[name] = {\n",
    "        \"phone\": phone,\n",
    "        \"email\": email\n",
    "    }\n",
    "\n",
    "# Function to retrieve a contact\n",
    "def get_contact(name):\n",
    "    return contacts.get(name, \"Contact not found.\")\n",
    "\n",
    "# Function to delete a contact\n",
    "def delete_contact(name):\n",
    "    if name in contacts:\n",
    "        del contacts[name]\n",
    "        return f\"{name} deleted.\"\n",
    "    else:\n",
    "        return \"Contact not found.\"\n",
    "\n",
    "# Function to display all contacts\n",
    "def display_contacts():\n",
    "    for name, info in contacts.items():\n",
    "        print(f\"Name: {name}\")\n",
    "        print(f\"  Phone: {info['phone']}\")\n",
    "        print(f\"  Email: {info['email']}\")\n",
    "        print()\n",
    "\n",
    "# Example usage\n",
    "add_contact(\"Alice\", \"123-456-7890\", \"alice@example.com\")\n",
    "add_contact(\"Bob\", \"987-654-3210\", \"bob@example.com\")\n",
    "\n",
    "print(get_contact(\"Alice\"))  # Retrieve Alice's contact\n",
    "delete_contact(\"Bob\")        # Delete Bob's contact\n",
    "display_contacts()           # Show all remaining contacts\n"
   ]
  },
  {
   "cell_type": "code",
   "execution_count": 2,
   "id": "a7c225ca-0cb3-4aa3-bf4e-5865d741411b",
   "metadata": {},
   "outputs": [
    {
     "name": "stdout",
     "output_type": "stream",
     "text": [
      "\n",
      "=== Main Menu ===\n",
      "1. Say Hello\n",
      "2. Add Two Numbers\n",
      "3. Exit\n"
     ]
    },
    {
     "name": "stdin",
     "output_type": "stream",
     "text": [
      "Enter your choice (1-3):  1\n"
     ]
    },
    {
     "name": "stdout",
     "output_type": "stream",
     "text": [
      "Hello, user!\n",
      "\n",
      "=== Main Menu ===\n",
      "1. Say Hello\n",
      "2. Add Two Numbers\n",
      "3. Exit\n"
     ]
    },
    {
     "name": "stdin",
     "output_type": "stream",
     "text": [
      "Enter your choice (1-3):  3\n"
     ]
    },
    {
     "name": "stdout",
     "output_type": "stream",
     "text": [
      "Exiting the program. Goodbye!\n"
     ]
    }
   ],
   "source": [
    "def show_menu():\n",
    "    print(\"\\n=== Main Menu ===\")\n",
    "    print(\"1. Say Hello\")\n",
    "    print(\"2. Add Two Numbers\")\n",
    "    print(\"3. Exit\")\n",
    "\n",
    "def say_hello():\n",
    "    print(\"Hello, user!\")\n",
    "\n",
    "def add_numbers():\n",
    "    try:\n",
    "        a = float(input(\"Enter the first number: \"))\n",
    "        b = float(input(\"Enter the second number: \"))\n",
    "        print(f\"The sum is: {a + b}\")\n",
    "    except ValueError:\n",
    "        print(\"Invalid input. Please enter numbers.\")\n",
    "\n",
    "# Main loop\n",
    "while True:\n",
    "    show_menu()\n",
    "    choice = input(\"Enter your choice (1-3): \")\n",
    "\n",
    "    if choice == \"1\":\n",
    "        say_hello()\n",
    "    elif choice == \"2\":\n",
    "        add_numbers()\n",
    "    elif choice == \"3\":\n",
    "        print(\"Exiting the program. Goodbye!\")\n",
    "        break\n",
    "    else:\n",
    "        print(\"Invalid choice. Please select from 1 to 3.\")\n"
   ]
  },
  {
   "cell_type": "code",
   "execution_count": 3,
   "id": "f6731347-21a5-46d0-8a4c-5db2ff024a4d",
   "metadata": {},
   "outputs": [
    {
     "name": "stdin",
     "output_type": "stream",
     "text": [
      "Enter your age:  25\n"
     ]
    },
    {
     "name": "stdout",
     "output_type": "stream",
     "text": [
      "Your age is 25\n"
     ]
    }
   ],
   "source": [
    "\n",
    "def get_integer(prompt):\n",
    "    while True:\n",
    "        try:\n",
    "            user_input = int(input(prompt))\n",
    "            return user_input\n",
    "        except ValueError:\n",
    "            print(\"Invalid input! Please enter a valid integer.\")\n",
    "\n",
    "# Example usage\n",
    "age = get_integer(\"Enter your age: \")\n",
    "print(f\"Your age is {age}\")\n",
    "\n"
   ]
  },
  {
   "cell_type": "code",
   "execution_count": 5,
   "id": "c0b781c0-689e-4cd2-893b-ad7311cd8976",
   "metadata": {},
   "outputs": [
    {
     "name": "stdin",
     "output_type": "stream",
     "text": [
      "Enter numbers separated by spaces:  3 5\n"
     ]
    },
    {
     "name": "stdout",
     "output_type": "stream",
     "text": [
      "Average: 4.0\n",
      "Maximum: 5.0\n",
      "Minimum: 3.0\n"
     ]
    }
   ],
   "source": [
    "def get_numbers():\n",
    "    user_input = input(\"Enter numbers separated by spaces: \")\n",
    "    return list(map(float, user_input.split()))\n",
    "\n",
    "def calculate_average(numbers):\n",
    "    return sum(numbers) / len(numbers)\n",
    "\n",
    "def find_max_min(numbers):\n",
    "    return max(numbers), min(numbers)\n",
    "\n",
    "def display_results(average, maximum, minimum):\n",
    "    print(f\"Average: {average}\")\n",
    "    print(f\"Maximum: {maximum}\")\n",
    "    print(f\"Minimum: {minimum}\")\n",
    "\n",
    "def main():\n",
    "    numbers = get_numbers()\n",
    "    average = calculate_average(numbers)\n",
    "    maximum, minimum = find_max_min(numbers)\n",
    "    display_results(average, maximum, minimum)\n",
    "\n",
    "if __name__ == \"__main__\":\n",
    "    main()\n"
   ]
  },
  {
   "cell_type": "code",
   "execution_count": null,
   "id": "888585d6-120f-4fae-be38-6505e294b565",
   "metadata": {},
   "outputs": [
    {
     "name": "stdout",
     "output_type": "stream",
     "text": [
      "\n",
      "Contact Manager Menu:\n",
      "1. Add Contact\n",
      "2. View Contact\n",
      "3. List All Contacts\n",
      "4. Search Contacts\n",
      "5. Contact Statistics\n",
      "6. Delete Contact\n",
      "7. Exit\n"
     ]
    },
    {
     "name": "stdin",
     "output_type": "stream",
     "text": [
      "Choose an option (1-7):  2\n",
      "Enter contact name to view:  Deng\n"
     ]
    },
    {
     "name": "stdout",
     "output_type": "stream",
     "text": [
      "Contact not found.\n",
      "\n",
      "Contact Manager Menu:\n",
      "1. Add Contact\n",
      "2. View Contact\n",
      "3. List All Contacts\n",
      "4. Search Contacts\n",
      "5. Contact Statistics\n",
      "6. Delete Contact\n",
      "7. Exit\n"
     ]
    }
   ],
   "source": [
    "## contacts = {}\n",
    "\n",
    "def add_contact():\n",
    "    \"\"\"Add a new contact with name, phone, email, and city\"\"\"\n",
    "    name = input(\"Enter name: \").strip()\n",
    "    if name in contacts:\n",
    "        print(\"Contact already exists.\")\n",
    "        return\n",
    "    phone = input(\"Enter phone: \").strip()\n",
    "    email = input(\"Enter email: \").strip()\n",
    "    city = input(\"Enter city: \").strip()\n",
    "    contacts[name] = {\"phone\": phone, \"email\": email, \"city\": city}\n",
    "    print(f\"Contact {name} added.\")\n",
    "\n",
    "def view_contact():\n",
    "    \"\"\"Display detailed information for a specific contact\"\"\"\n",
    "    name = input(\"Enter contact name to view: \").strip()\n",
    "    contact = contacts.get(name)\n",
    "    if contact:\n",
    "        print(f\"Name: {name}\")\n",
    "        for key, value in contact.items():\n",
    "            print(f\"{key.capitalize()}: {value}\")\n",
    "    else:\n",
    "        print(\"Contact not found.\")\n",
    "\n",
    "def list_all_contacts():\n",
    "    \"\"\"Show a summary of all contacts\"\"\"\n",
    "    if not contacts:\n",
    "        print(\"No contacts found.\")\n",
    "        return\n",
    "    print(\"All Contacts:\")\n",
    "    for name, info in contacts.items():\n",
    "        print(f\"{name} - {info['city']}\")\n",
    "\n",
    "def search_contacts():\n",
    "    \"\"\"Search for contacts by city or partial name match\"\"\"\n",
    "    query = input(\"Enter city or name to search: \").strip().lower()\n",
    "    found = False\n",
    "    for name, info in contacts.items():\n",
    "        if query in name.lower() or query in info['city'].lower():\n",
    "            print(f\"{name} - {info['city']}\")\n",
    "            found = True\n",
    "    if not found:\n",
    "        print(\"No matching contacts found.\")\n",
    "\n",
    "def contact_statistics():\n",
    "    \"\"\"Show interesting statistics about the contact book\"\"\"\n",
    "    from collections import Counter\n",
    "    if not contacts:\n",
    "        print(\"No contacts to analyze.\")\n",
    "        return\n",
    "    total = len(contacts)\n",
    "    cities = [info['city'] for info in contacts.values()]\n",
    "    most_common_city = Counter(cities).most_common(1)[0]\n",
    "    print(f\"Total contacts: {total}\")\n",
    "    print(f\"Most common city: {most_common_city[0]} ({most_common_city[1]} contacts)\")\n",
    "\n",
    "def delete_contact():\n",
    "    \"\"\"Remove a contact from the book\"\"\"\n",
    "    name = input(\"Enter contact name to delete: \").strip()\n",
    "    if name in contacts:\n",
    "        confirm = input(f\"Are you sure you want to delete {name}? (y/n): \").strip().lower()\n",
    "        if confirm == 'y':\n",
    "            del contacts[name]\n",
    "            print(f\"Contact {name} deleted.\")\n",
    "        else:\n",
    "            print(\"Deletion canceled.\")\n",
    "    else:\n",
    "        print(\"Contact not found.\")\n",
    "\n",
    "def main():\n",
    "    \"\"\"Main program loop with menu system\"\"\"\n",
    "    while True:\n",
    "        print(\"\\nContact Manager Menu:\")\n",
    "        print(\"1. Add Contact\")\n",
    "        print(\"2. View Contact\")\n",
    "        print(\"3. List All Contacts\")\n",
    "        print(\"4. Search Contacts\")\n",
    "        print(\"5. Contact Statistics\")\n",
    "        print(\"6. Delete Contact\")\n",
    "        print(\"7. Exit\")\n",
    "        choice = input(\"Choose an option (1-7): \").strip()\n",
    "        if choice == '1':\n",
    "            add_contact()\n",
    "        elif choice == '2':\n",
    "            view_contact()\n",
    "        elif choice == '3':\n",
    "            list_all_contacts()\n",
    "        elif choice == '4':\n",
    "            search_contacts()\n",
    "        elif choice == '5':\n",
    "            contact_statistics()\n",
    "        elif choice == '6':\n",
    "            delete_contact()\n",
    "        elif choice == '7':\n",
    "            print(\"Goodbye!\")\n",
    "            break\n",
    "        else:\n",
    "            print(\"Invalid choice. Please try again.\")\n",
    "\n",
    "if __name__ == \"__main__\":\n",
    "    main()\n"
   ]
  },
  {
   "cell_type": "code",
   "execution_count": null,
   "id": "df950464-29a8-4228-99d2-ac3a176e5008",
   "metadata": {},
   "outputs": [],
   "source": []
  }
 ],
 "metadata": {
  "kernelspec": {
   "display_name": "Python 3 (ipykernel)",
   "language": "python",
   "name": "python3"
  },
  "language_info": {
   "codemirror_mode": {
    "name": "ipython",
    "version": 3
   },
   "file_extension": ".py",
   "mimetype": "text/x-python",
   "name": "python",
   "nbconvert_exporter": "python",
   "pygments_lexer": "ipython3",
   "version": "3.13.5"
  }
 },
 "nbformat": 4,
 "nbformat_minor": 5
}
