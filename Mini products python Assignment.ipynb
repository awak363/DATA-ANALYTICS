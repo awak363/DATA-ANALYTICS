{
 "cells": [
  {
   "cell_type": "markdown",
   "id": "462412a4-7e27-4b6f-8ec5-edc9892dee07",
   "metadata": {},
   "source": [
    "# Mini python Assignment"
   ]
  },
  {
   "cell_type": "code",
   "execution_count": 1,
   "id": "4fded79d-6643-49cf-8673-e15fa775066f",
   "metadata": {},
   "outputs": [],
   "source": [
    "import pandas as pd\n",
    "import numpy as np\n"
   ]
  },
  {
   "cell_type": "code",
   "execution_count": 2,
   "id": "fe756554-4abc-41f1-a29d-6dc9001b16ed",
   "metadata": {},
   "outputs": [
    {
     "data": {
      "text/html": [
       "<div>\n",
       "<style scoped>\n",
       "    .dataframe tbody tr th:only-of-type {\n",
       "        vertical-align: middle;\n",
       "    }\n",
       "\n",
       "    .dataframe tbody tr th {\n",
       "        vertical-align: top;\n",
       "    }\n",
       "\n",
       "    .dataframe thead th {\n",
       "        text-align: right;\n",
       "    }\n",
       "</style>\n",
       "<table border=\"1\" class=\"dataframe\">\n",
       "  <thead>\n",
       "    <tr style=\"text-align: right;\">\n",
       "      <th></th>\n",
       "      <th>Product_ID</th>\n",
       "      <th>Product_Name</th>\n",
       "      <th>Category</th>\n",
       "      <th>Price</th>\n",
       "      <th>Stock_Quantity</th>\n",
       "      <th>Supplier</th>\n",
       "    </tr>\n",
       "  </thead>\n",
       "  <tbody>\n",
       "    <tr>\n",
       "      <th>0</th>\n",
       "      <td>TG001</td>\n",
       "      <td>Gadget 1</td>\n",
       "      <td>Charging</td>\n",
       "      <td>10.67</td>\n",
       "      <td>132</td>\n",
       "      <td>ChargeFast</td>\n",
       "    </tr>\n",
       "    <tr>\n",
       "      <th>1</th>\n",
       "      <td>TG002</td>\n",
       "      <td>Gadget 2</td>\n",
       "      <td>Charging</td>\n",
       "      <td>65.46</td>\n",
       "      <td>234</td>\n",
       "      <td>TechCorp</td>\n",
       "    </tr>\n",
       "    <tr>\n",
       "      <th>2</th>\n",
       "      <td>TG003</td>\n",
       "      <td>Gadget 3</td>\n",
       "      <td>Accessories</td>\n",
       "      <td>44.85</td>\n",
       "      <td>11</td>\n",
       "      <td>DeskMate</td>\n",
       "    </tr>\n",
       "    <tr>\n",
       "      <th>3</th>\n",
       "      <td>TG004</td>\n",
       "      <td>Gadget 4</td>\n",
       "      <td>Charging</td>\n",
       "      <td>92.02</td>\n",
       "      <td>42</td>\n",
       "      <td>PowerPlus</td>\n",
       "    </tr>\n",
       "    <tr>\n",
       "      <th>4</th>\n",
       "      <td>TG005</td>\n",
       "      <td>Gadget 5</td>\n",
       "      <td>Audio</td>\n",
       "      <td>49.79</td>\n",
       "      <td>12</td>\n",
       "      <td>SoundMax</td>\n",
       "    </tr>\n",
       "  </tbody>\n",
       "</table>\n",
       "</div>"
      ],
      "text/plain": [
       "  Product_ID Product_Name     Category  Price  Stock_Quantity    Supplier\n",
       "0      TG001     Gadget 1     Charging  10.67             132  ChargeFast\n",
       "1      TG002     Gadget 2     Charging  65.46             234    TechCorp\n",
       "2      TG003     Gadget 3  Accessories  44.85              11    DeskMate\n",
       "3      TG004     Gadget 4     Charging  92.02              42   PowerPlus\n",
       "4      TG005     Gadget 5        Audio  49.79              12    SoundMax"
      ]
     },
     "execution_count": 2,
     "metadata": {},
     "output_type": "execute_result"
    }
   ],
   "source": [
    "#loading dataset\n",
    "df = pd.read_csv('datasets/techgadget_products.csv')\n",
    "df.head()       "
   ]
  },
  {
   "cell_type": "code",
   "execution_count": 5,
   "id": "1eecc189-63fa-452d-a5f1-efad46e39d4b",
   "metadata": {},
   "outputs": [
    {
     "name": "stdout",
     "output_type": "stream",
     "text": [
      "🏪 TechGadget Store Product Analysis\n",
      "==================================================\n",
      "Dataset shape: (8, 6)\n",
      "\n",
      "First 5 products:\n",
      "  Product_ID       Product_Name     Category  Price  Stock_Quantity  Supplier\n",
      "0      TG001     Wireless Mouse  Accessories  25.99             150  TechCorp\n",
      "1      TG002  Bluetooth Speaker        Audio  89.99              45  SoundMax\n",
      "2      TG003          USB Cable       Cables  12.99             200  TechCorp\n",
      "3      TG004         Phone Case  Accessories  19.99              75  GuardPro\n",
      "4      TG005       Laptop Stand  Accessories  45.99              30  DeskMate\n",
      "\n",
      "Product categories: ['Accessories' 'Audio' 'Cables' 'Charging' 'Protection']\n"
     ]
    }
   ],
   "source": [
    "import pandas as pd\n",
    "\n",
    "# TechGadget Store Product Data\n",
    "products_data = {\n",
    "    'Product_ID': ['TG001', 'TG002', 'TG003', 'TG004', 'TG005', 'TG006', 'TG007', 'TG008'],\n",
    "    'Product_Name': ['Wireless Mouse', 'Bluetooth Speaker', 'USB Cable', 'Phone Case',\n",
    "                     'Laptop Stand', 'Wireless Charger', 'Screen Protector', 'Power Bank'],\n",
    "    'Category': ['Accessories', 'Audio', 'Cables', 'Accessories',\n",
    "                 'Accessories', 'Charging', 'Protection', 'Charging'],\n",
    "    'Price': [25.99, 89.99, 12.99, 19.99, 45.99, 39.99, 9.99, 59.99],\n",
    "    'Stock_Quantity': [150, 45, 200, 75, 30, 60, 180, 25],\n",
    "    'Supplier': ['TechCorp', 'SoundMax', 'TechCorp', 'GuardPro',\n",
    "                 'DeskMate', 'ChargeFast', 'GuardPro', 'PowerPlus']\n",
    "}\n",
    "\n",
    "products_df = pd.DataFrame(products_data)\n",
    "\n",
    "print(\"🏪 TechGadget Store Product Analysis\")\n",
    "print(\"=\"*50)\n",
    "\n",
    "# a) What is the shape of the dataset?\n",
    "print(\"Dataset shape:\", products_df.shape)\n",
    "\n",
    "# b) Display the first 5 products\n",
    "print(\"\\nFirst 5 products:\")\n",
    "print(products_df.head())\n",
    "\n",
    "# c) What are all the unique categories?\n",
    "print(\"\\nProduct categories:\", products_df['Category'].unique())\n"
   ]
  },
  {
   "cell_type": "code",
   "execution_count": 6,
   "id": "d202da2d-1792-42ab-ba07-188b592e3c62",
   "metadata": {},
   "outputs": [
    {
     "name": "stdout",
     "output_type": "stream",
     "text": [
      "Top 3 most expensive products:\n",
      "- Product B: $150.0\n",
      "- Product E: $120.0\n",
      "- Product D: $75.0\n",
      "Products over $50:\n",
      "- Product B: $150.0\n",
      "- Product D: $75.0\n",
      "- Product E: $120.0\n",
      "Average price: $ 70.75\n"
     ]
    }
   ],
   "source": [
    "products = [\n",
    "    {\"name\": \"Product A\", \"price\": 45.99},\n",
    "    {\"name\": \"Product B\", \"price\": 150.00},\n",
    "    {\"name\": \"Product C\", \"price\": 23.50},\n",
    "    {\"name\": \"Product D\", \"price\": 75.00},\n",
    "    {\"name\": \"Product E\", \"price\": 120.00},\n",
    "    {\"name\": \"Product F\", \"price\": 10.00}\n",
    "]\n",
    "\n",
    "# a) Top 3 most expensive products\n",
    "top_3 = sorted(products, key=lambda x: x[\"price\"], reverse=True)[:3]\n",
    "print(\"Top 3 most expensive products:\")\n",
    "for product in top_3:\n",
    "    print(f\"- {product['name']}: ${product['price']}\")\n",
    "\n",
    "# b) Products over $50\n",
    "over_50 = [p for p in products if p[\"price\"] > 50]\n",
    "print(\"Products over $50:\")\n",
    "for product in over_50:\n",
    "    print(f\"- {product['name']}: ${product['price']}\")\n",
    "\n",
    "# c) Average price\n",
    "average_price = sum(p[\"price\"] for p in products) / len(products)\n",
    "print(\"Average price: $\", round(average_price, 2))\n"
   ]
  },
  {
   "cell_type": "code",
   "execution_count": 7,
   "id": "93299faa-718f-4d39-85e0-42b8ae3b8fcf",
   "metadata": {},
   "outputs": [
    {
     "name": "stdout",
     "output_type": "stream",
     "text": [
      "Low stock products (< 50 units):\n",
      "            Product  Stock\n",
      "0     Phone Model X     30\n",
      "2       USB-C Cable     45\n",
      "4  Portable Battery     20\n",
      "\n",
      "Charging products and stock:\n",
      "            Product  Stock\n",
      "1  Wireless Charger    120\n",
      "2       USB-C Cable     45\n",
      "4  Portable Battery     20\n",
      "\n",
      "Supplier with most products: Supplier A\n"
     ]
    }
   ],
   "source": [
    "import pandas as pd\n",
    "\n",
    "# Example DataFrame\n",
    "data = [\n",
    "    {'Product': 'Phone Model X', 'Category': 'Smartphone', 'Stock': 30, 'Supplier': 'Supplier A'},\n",
    "    {'Product': 'Wireless Charger', 'Category': 'Charging', 'Stock': 120, 'Supplier': 'Supplier B'},\n",
    "    {'Product': 'USB-C Cable', 'Category': 'Charging', 'Stock': 45, 'Supplier': 'Supplier A'},\n",
    "    {'Product': 'Phone Case', 'Category': 'Accessory', 'Stock': 75, 'Supplier': 'Supplier C'},\n",
    "    {'Product': 'Portable Battery', 'Category': 'Charging', 'Stock': 20, 'Supplier': 'Supplier B'},\n",
    "    {'Product': 'Tablet Model Y', 'Category': 'Tablet', 'Stock': 60, 'Supplier': 'Supplier A'},\n",
    "]\n",
    "\n",
    "df = pd.DataFrame(data)\n",
    "\n",
    "# a) Products with less than 50 items in stock\n",
    "print(\"Low stock products (< 50 units):\")\n",
    "low_stock = df[df['Stock'] < 50]\n",
    "print(low_stock[['Product', 'Stock']])\n",
    "\n",
    "# b) 'Charging' category products with stock levels\n",
    "print(\"\\nCharging products and stock:\")\n",
    "charging_products = df[df['Category'] == 'Charging']\n",
    "print(charging_products[['Product', 'Stock']])\n",
    "\n",
    "# c) Supplier providing the most products\n",
    "most_products_supplier = df['Supplier'].value_counts().idxmax()\n",
    "print(\"\\nSupplier with most products:\", most_products_supplier)\n"
   ]
  },
  {
   "cell_type": "code",
   "execution_count": 9,
   "id": "5056856a-1059-497c-8e6a-34ab63a9177d",
   "metadata": {},
   "outputs": [
    {
     "name": "stdout",
     "output_type": "stream",
     "text": [
      "Expensive accessories:\n",
      "- Leather Belt: $45\n",
      "- Watch: $120\n",
      "Inventory value by category:\n",
      "- Accessories: $1425\n",
      "- Clothing: $1600\n"
     ]
    }
   ],
   "source": [
    "products = [\n",
    "    {\"name\": \"Leather Belt\", \"category\": \"Accessories\", \"price\": 45, \"quantity\": 10},\n",
    "    {\"name\": \"Sunglasses\", \"category\": \"Accessories\", \"price\": 25, \"quantity\": 15},\n",
    "    {\"name\": \"Watch\", \"category\": \"Accessories\", \"price\": 120, \"quantity\": 5},\n",
    "    {\"name\": \"T-shirt\", \"category\": \"Clothing\", \"price\": 20, \"quantity\": 30},\n",
    "    {\"name\": \"Jeans\", \"category\": \"Clothing\", \"price\": 50, \"quantity\": 20},\n",
    "]\n",
    "\n",
    "# a) Find expensive accessories (Accessories category, price > $30)\n",
    "print(\"Expensive accessories:\")\n",
    "expensive_accessories = [p for p in products if p[\"category\"] == \"Accessories\" and p[\"price\"] > 30]\n",
    "for item in expensive_accessories:\n",
    "    print(f\"- {item['name']}: ${item['price']}\")\n",
    "\n",
    "# b) Calculate total value of inventory for each category\n",
    "print(\"Inventory value by category:\")\n",
    "inventory_value = {}\n",
    "for product in products:\n",
    "    category = product[\"category\"]\n",
    "    total_value = product[\"price\"] * product[\"quantity\"]\n",
    "    inventory_value[category] = inventory_value.get(category, 0) + total_value\n",
    "\n",
    "for category, value in inventory_value.items():\n",
    "    print(f\"- {category}: ${value}\")\n",
    "    \n"
   ]
  },
  {
   "cell_type": "code",
   "execution_count": null,
   "id": "8d8a2338-4c2f-42dc-b9fb-8562186c0dc4",
   "metadata": {},
   "outputs": [],
   "source": []
  }
 ],
 "metadata": {
  "kernelspec": {
   "display_name": "Python 3 (ipykernel)",
   "language": "python",
   "name": "python3"
  },
  "language_info": {
   "codemirror_mode": {
    "name": "ipython",
    "version": 3
   },
   "file_extension": ".py",
   "mimetype": "text/x-python",
   "name": "python",
   "nbconvert_exporter": "python",
   "pygments_lexer": "ipython3",
   "version": "3.13.5"
  }
 },
 "nbformat": 4,
 "nbformat_minor": 5
}
